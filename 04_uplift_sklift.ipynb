{
 "cells": [
  {
   "cell_type": "code",
   "execution_count": 188,
   "metadata": {},
   "outputs": [],
   "source": [
    "import numpy as np\n",
    "import pandas as pd\n",
    "from sklift.metrics import uplift_at_k\n",
    "from sklift.viz import plot_uplift_preds\n",
    "from sklift.models import SoloModel\n",
    "from sklift.models import ClassTransformation\n",
    "from sklift.models import TwoModels\n",
    "from sklearn.model_selection import train_test_split\n",
    "from catboost import CatBoostClassifier"
   ]
  },
  {
   "cell_type": "code",
   "execution_count": 186,
   "metadata": {},
   "outputs": [],
   "source": [
    "import warnings\n",
    "warnings.filterwarnings('ignore')"
   ]
  },
  {
   "cell_type": "markdown",
   "metadata": {},
   "source": [
    "1. скачать набор данных маркетинговых кампаний отсюда https://www.kaggle.com/davinwijaya/customer-retention\n",
    "2. там поле conversion - это целевая переменная, а offer - коммуникация. Переименовать поля (conversion -> target, offer -> treatment) и привести поле treatment к бинарному виду (1 или 0, т.е было какое-то предложение или нет) - значение No Offer означает отсутствие коммуникации, а все остальные - наличие.\n",
    "3. сделать разбиение набора данных не тренировочную и тестовую выборки\n",
    "4. сделать feature engineering на ваше усмотрение (допускается свобода выбора методов)\n",
    "5. провести uplift-моделирование 3 способами: одна модель с признаком коммуникации (S learner), модель с трансформацией таргета (трансформация классов п. 2. 1) и вариант с двумя независимыми моделями\n",
    "6. в конце вывести единую таблицу сравнения метрик uplift@10%, uplift@20% этих 3 моделей\n",
    "7. построить модель UpliftTreeClassifier и попытаться описать словами полученное дерево\n",
    "8. (опционально) для модели S learner (модель с дополнительным признаком коммуникации) построить зависимость таргета (конверсии - поле conversion) от значения uplift: 1) сделать прогноз и получить uplift для тестовой выборки 2) отсортировать тестовую выборку по uplift по убыванию 3) разбить на децили (pandas qcut вам в помощь) 4) для каждого дециля посчитать среднюю conversion\n",
    "9. (опционально) построить модель UpliftRandomForestClassifier и попытаться описать словами полученное дерево"
   ]
  },
  {
   "cell_type": "code",
   "execution_count": 191,
   "metadata": {},
   "outputs": [
    {
     "data": {
      "text/html": [
       "<div>\n",
       "<style scoped>\n",
       "    .dataframe tbody tr th:only-of-type {\n",
       "        vertical-align: middle;\n",
       "    }\n",
       "\n",
       "    .dataframe tbody tr th {\n",
       "        vertical-align: top;\n",
       "    }\n",
       "\n",
       "    .dataframe thead th {\n",
       "        text-align: right;\n",
       "    }\n",
       "</style>\n",
       "<table border=\"1\" class=\"dataframe\">\n",
       "  <thead>\n",
       "    <tr style=\"text-align: right;\">\n",
       "      <th></th>\n",
       "      <th>recency</th>\n",
       "      <th>history</th>\n",
       "      <th>used_discount</th>\n",
       "      <th>used_bogo</th>\n",
       "      <th>zip_code</th>\n",
       "      <th>is_referral</th>\n",
       "      <th>channel</th>\n",
       "      <th>offer</th>\n",
       "      <th>conversion</th>\n",
       "    </tr>\n",
       "  </thead>\n",
       "  <tbody>\n",
       "    <tr>\n",
       "      <td>0</td>\n",
       "      <td>10</td>\n",
       "      <td>142.44</td>\n",
       "      <td>1</td>\n",
       "      <td>0</td>\n",
       "      <td>Surburban</td>\n",
       "      <td>0</td>\n",
       "      <td>Phone</td>\n",
       "      <td>Buy One Get One</td>\n",
       "      <td>0</td>\n",
       "    </tr>\n",
       "    <tr>\n",
       "      <td>1</td>\n",
       "      <td>6</td>\n",
       "      <td>329.08</td>\n",
       "      <td>1</td>\n",
       "      <td>1</td>\n",
       "      <td>Rural</td>\n",
       "      <td>1</td>\n",
       "      <td>Web</td>\n",
       "      <td>No Offer</td>\n",
       "      <td>0</td>\n",
       "    </tr>\n",
       "    <tr>\n",
       "      <td>2</td>\n",
       "      <td>7</td>\n",
       "      <td>180.65</td>\n",
       "      <td>0</td>\n",
       "      <td>1</td>\n",
       "      <td>Surburban</td>\n",
       "      <td>1</td>\n",
       "      <td>Web</td>\n",
       "      <td>Buy One Get One</td>\n",
       "      <td>0</td>\n",
       "    </tr>\n",
       "    <tr>\n",
       "      <td>3</td>\n",
       "      <td>9</td>\n",
       "      <td>675.83</td>\n",
       "      <td>1</td>\n",
       "      <td>0</td>\n",
       "      <td>Rural</td>\n",
       "      <td>1</td>\n",
       "      <td>Web</td>\n",
       "      <td>Discount</td>\n",
       "      <td>0</td>\n",
       "    </tr>\n",
       "    <tr>\n",
       "      <td>4</td>\n",
       "      <td>2</td>\n",
       "      <td>45.34</td>\n",
       "      <td>1</td>\n",
       "      <td>0</td>\n",
       "      <td>Urban</td>\n",
       "      <td>0</td>\n",
       "      <td>Web</td>\n",
       "      <td>Buy One Get One</td>\n",
       "      <td>0</td>\n",
       "    </tr>\n",
       "  </tbody>\n",
       "</table>\n",
       "</div>"
      ],
      "text/plain": [
       "   recency  history  used_discount  used_bogo   zip_code  is_referral channel  \\\n",
       "0       10   142.44              1          0  Surburban            0   Phone   \n",
       "1        6   329.08              1          1      Rural            1     Web   \n",
       "2        7   180.65              0          1  Surburban            1     Web   \n",
       "3        9   675.83              1          0      Rural            1     Web   \n",
       "4        2    45.34              1          0      Urban            0     Web   \n",
       "\n",
       "             offer  conversion  \n",
       "0  Buy One Get One           0  \n",
       "1         No Offer           0  \n",
       "2  Buy One Get One           0  \n",
       "3         Discount           0  \n",
       "4  Buy One Get One           0  "
      ]
     },
     "execution_count": 191,
     "metadata": {},
     "output_type": "execute_result"
    }
   ],
   "source": [
    "df = pd.read_csv('data.csv', encoding='utf-8')\n",
    "df.head()"
   ]
  },
  {
   "cell_type": "code",
   "execution_count": 192,
   "metadata": {},
   "outputs": [],
   "source": [
    "df['recency'] = df['recency'].astype('str')\n",
    "df['used_discount'] = df['used_discount'].astype('str')\n",
    "df['used_bogo'] = df['used_bogo'].astype('str')\n",
    "df['zip_code'] = df['zip_code'].astype('str')\n",
    "df['is_referral'] = df['is_referral'].astype('str')"
   ]
  },
  {
   "cell_type": "code",
   "execution_count": 193,
   "metadata": {},
   "outputs": [],
   "source": [
    "df.rename(columns={'conversion': 'target', 'offer': 'treatment'}, inplace=True)"
   ]
  },
  {
   "cell_type": "code",
   "execution_count": 194,
   "metadata": {},
   "outputs": [],
   "source": [
    "df['treatment'].replace(to_replace={'No Offer': 0, 'Buy One Get One': 1, 'Discount': 1}, inplace=True)"
   ]
  },
  {
   "cell_type": "code",
   "execution_count": 195,
   "metadata": {},
   "outputs": [
    {
     "data": {
      "text/plain": [
       "((44800,), (19200,))"
      ]
     },
     "execution_count": 195,
     "metadata": {},
     "output_type": "execute_result"
    }
   ],
   "source": [
    "index_train, index_valid = train_test_split(df.index, test_size=0.3, random_state=43)\n",
    "index_train.shape, index_valid.shape"
   ]
  },
  {
   "cell_type": "code",
   "execution_count": 196,
   "metadata": {},
   "outputs": [
    {
     "name": "stdout",
     "output_type": "stream",
     "text": [
      "(44800, 7) (44800,) (44800,)\n",
      "(19200, 7) (19200,) (19200,)\n"
     ]
    }
   ],
   "source": [
    "X_train = df.loc[index_train, :].drop(['target', 'treatment'], 1)\n",
    "y_train = df.loc[index_train, 'target']\n",
    "treat_train = df.loc[index_train, 'treatment']\n",
    "\n",
    "X_valid = df.loc[index_valid, :].drop(['target', 'treatment'], 1)\n",
    "y_valid = df.loc[index_valid, 'target']\n",
    "treat_valid = df.loc[index_valid, 'treatment']\n",
    "\n",
    "print(X_train.shape, y_train.shape, treat_train.shape)\n",
    "print(X_valid.shape, y_valid.shape, treat_valid.shape)"
   ]
  },
  {
   "cell_type": "markdown",
   "metadata": {},
   "source": [
    "Создадим признаков."
   ]
  },
  {
   "cell_type": "code",
   "execution_count": 198,
   "metadata": {},
   "outputs": [],
   "source": [
    "cat_features = [col for col in df.columns if df[col].dtype == 'object']"
   ]
  },
  {
   "cell_type": "code",
   "execution_count": 199,
   "metadata": {},
   "outputs": [],
   "source": [
    "num_features = [col for col in X_train.columns if X_train[col].dtype == 'float64']"
   ]
  },
  {
   "cell_type": "code",
   "execution_count": 200,
   "metadata": {},
   "outputs": [],
   "source": [
    "#попарная конъюнкция\n",
    "def new_cat_features(data, features):\n",
    "    for i, col1 in enumerate(features):\n",
    "        for j, col2 in enumerate(features[i + 1:]):\n",
    "            data[col1 + '_' + col2] = data[col1] + '_' + data[col2]    "
   ]
  },
  {
   "cell_type": "code",
   "execution_count": 201,
   "metadata": {},
   "outputs": [],
   "source": [
    "#простые статистики и функции\n",
    "def new_num_features(data, features):\n",
    "    for col in features:\n",
    "        data[col + 'min'] = np.min(data[col])\n",
    "        data[col + 'max'] = np.max(data[col])\n",
    "        data[col + 'square'] = np.power(data[col], 2)\n",
    "        data[col + 'cube'] = np.power(data[col], 3)\n",
    "        data[col + 'median'] = np.median(data[col])\n",
    "        data[col + 'log'] = np.log(data[col])\n",
    "        data[col + '25perc'] = np.percentile(data[col], 25)\n",
    "        data[col + '75perc'] = np.percentile(data[col], 75)\n",
    "        data[col + 'std'] = np.std(data[col])"
   ]
  },
  {
   "cell_type": "code",
   "execution_count": 202,
   "metadata": {},
   "outputs": [],
   "source": [
    "new_cat_features(X_train, cat_features)"
   ]
  },
  {
   "cell_type": "code",
   "execution_count": 203,
   "metadata": {},
   "outputs": [],
   "source": [
    "new_cat_features(X_valid, cat_features)"
   ]
  },
  {
   "cell_type": "code",
   "execution_count": 204,
   "metadata": {},
   "outputs": [],
   "source": [
    "new_num_features(X_train, num_features)"
   ]
  },
  {
   "cell_type": "code",
   "execution_count": 205,
   "metadata": {},
   "outputs": [],
   "source": [
    "new_num_features(X_valid, num_features)"
   ]
  },
  {
   "cell_type": "code",
   "execution_count": 206,
   "metadata": {},
   "outputs": [
    {
     "name": "stdout",
     "output_type": "stream",
     "text": [
      "(44800, 31) (19200, 31)\n"
     ]
    }
   ],
   "source": [
    "print(X_train.shape, X_valid.shape)"
   ]
  },
  {
   "cell_type": "code",
   "execution_count": 207,
   "metadata": {},
   "outputs": [
    {
     "data": {
      "text/html": [
       "<div>\n",
       "<style scoped>\n",
       "    .dataframe tbody tr th:only-of-type {\n",
       "        vertical-align: middle;\n",
       "    }\n",
       "\n",
       "    .dataframe tbody tr th {\n",
       "        vertical-align: top;\n",
       "    }\n",
       "\n",
       "    .dataframe thead th {\n",
       "        text-align: right;\n",
       "    }\n",
       "</style>\n",
       "<table border=\"1\" class=\"dataframe\">\n",
       "  <thead>\n",
       "    <tr style=\"text-align: right;\">\n",
       "      <th></th>\n",
       "      <th>recency</th>\n",
       "      <th>history</th>\n",
       "      <th>used_discount</th>\n",
       "      <th>used_bogo</th>\n",
       "      <th>zip_code</th>\n",
       "      <th>is_referral</th>\n",
       "      <th>channel</th>\n",
       "      <th>recency_used_discount</th>\n",
       "      <th>recency_used_bogo</th>\n",
       "      <th>recency_zip_code</th>\n",
       "      <th>...</th>\n",
       "      <th>is_referral_channel</th>\n",
       "      <th>historymin</th>\n",
       "      <th>historymax</th>\n",
       "      <th>historysquare</th>\n",
       "      <th>historycube</th>\n",
       "      <th>historymedian</th>\n",
       "      <th>historylog</th>\n",
       "      <th>history25perc</th>\n",
       "      <th>history75perc</th>\n",
       "      <th>historystd</th>\n",
       "    </tr>\n",
       "  </thead>\n",
       "  <tbody>\n",
       "    <tr>\n",
       "      <td>53762</td>\n",
       "      <td>1</td>\n",
       "      <td>50.56</td>\n",
       "      <td>1</td>\n",
       "      <td>0</td>\n",
       "      <td>Rural</td>\n",
       "      <td>1</td>\n",
       "      <td>Phone</td>\n",
       "      <td>1_1</td>\n",
       "      <td>1_0</td>\n",
       "      <td>1_Rural</td>\n",
       "      <td>...</td>\n",
       "      <td>1_Phone</td>\n",
       "      <td>29.99</td>\n",
       "      <td>3345.93</td>\n",
       "      <td>2556.3136</td>\n",
       "      <td>1.292472e+05</td>\n",
       "      <td>158.61</td>\n",
       "      <td>3.923161</td>\n",
       "      <td>65.5175</td>\n",
       "      <td>327.0075</td>\n",
       "      <td>257.440704</td>\n",
       "    </tr>\n",
       "    <tr>\n",
       "      <td>27293</td>\n",
       "      <td>9</td>\n",
       "      <td>44.42</td>\n",
       "      <td>1</td>\n",
       "      <td>0</td>\n",
       "      <td>Urban</td>\n",
       "      <td>1</td>\n",
       "      <td>Web</td>\n",
       "      <td>9_1</td>\n",
       "      <td>9_0</td>\n",
       "      <td>9_Urban</td>\n",
       "      <td>...</td>\n",
       "      <td>1_Web</td>\n",
       "      <td>29.99</td>\n",
       "      <td>3345.93</td>\n",
       "      <td>1973.1364</td>\n",
       "      <td>8.764672e+04</td>\n",
       "      <td>158.61</td>\n",
       "      <td>3.793690</td>\n",
       "      <td>65.5175</td>\n",
       "      <td>327.0075</td>\n",
       "      <td>257.440704</td>\n",
       "    </tr>\n",
       "    <tr>\n",
       "      <td>3476</td>\n",
       "      <td>8</td>\n",
       "      <td>29.99</td>\n",
       "      <td>1</td>\n",
       "      <td>0</td>\n",
       "      <td>Surburban</td>\n",
       "      <td>1</td>\n",
       "      <td>Web</td>\n",
       "      <td>8_1</td>\n",
       "      <td>8_0</td>\n",
       "      <td>8_Surburban</td>\n",
       "      <td>...</td>\n",
       "      <td>1_Web</td>\n",
       "      <td>29.99</td>\n",
       "      <td>3345.93</td>\n",
       "      <td>899.4001</td>\n",
       "      <td>2.697301e+04</td>\n",
       "      <td>158.61</td>\n",
       "      <td>3.400864</td>\n",
       "      <td>65.5175</td>\n",
       "      <td>327.0075</td>\n",
       "      <td>257.440704</td>\n",
       "    </tr>\n",
       "    <tr>\n",
       "      <td>24877</td>\n",
       "      <td>5</td>\n",
       "      <td>312.00</td>\n",
       "      <td>0</td>\n",
       "      <td>1</td>\n",
       "      <td>Surburban</td>\n",
       "      <td>1</td>\n",
       "      <td>Phone</td>\n",
       "      <td>5_0</td>\n",
       "      <td>5_1</td>\n",
       "      <td>5_Surburban</td>\n",
       "      <td>...</td>\n",
       "      <td>1_Phone</td>\n",
       "      <td>29.99</td>\n",
       "      <td>3345.93</td>\n",
       "      <td>97344.0000</td>\n",
       "      <td>3.037133e+07</td>\n",
       "      <td>158.61</td>\n",
       "      <td>5.743003</td>\n",
       "      <td>65.5175</td>\n",
       "      <td>327.0075</td>\n",
       "      <td>257.440704</td>\n",
       "    </tr>\n",
       "    <tr>\n",
       "      <td>16812</td>\n",
       "      <td>2</td>\n",
       "      <td>74.93</td>\n",
       "      <td>0</td>\n",
       "      <td>1</td>\n",
       "      <td>Urban</td>\n",
       "      <td>1</td>\n",
       "      <td>Phone</td>\n",
       "      <td>2_0</td>\n",
       "      <td>2_1</td>\n",
       "      <td>2_Urban</td>\n",
       "      <td>...</td>\n",
       "      <td>1_Phone</td>\n",
       "      <td>29.99</td>\n",
       "      <td>3345.93</td>\n",
       "      <td>5614.5049</td>\n",
       "      <td>4.206949e+05</td>\n",
       "      <td>158.61</td>\n",
       "      <td>4.316554</td>\n",
       "      <td>65.5175</td>\n",
       "      <td>327.0075</td>\n",
       "      <td>257.440704</td>\n",
       "    </tr>\n",
       "  </tbody>\n",
       "</table>\n",
       "<p>5 rows × 31 columns</p>\n",
       "</div>"
      ],
      "text/plain": [
       "      recency  history used_discount used_bogo   zip_code is_referral channel  \\\n",
       "53762       1    50.56             1         0      Rural           1   Phone   \n",
       "27293       9    44.42             1         0      Urban           1     Web   \n",
       "3476        8    29.99             1         0  Surburban           1     Web   \n",
       "24877       5   312.00             0         1  Surburban           1   Phone   \n",
       "16812       2    74.93             0         1      Urban           1   Phone   \n",
       "\n",
       "      recency_used_discount recency_used_bogo recency_zip_code  ...  \\\n",
       "53762                   1_1               1_0          1_Rural  ...   \n",
       "27293                   9_1               9_0          9_Urban  ...   \n",
       "3476                    8_1               8_0      8_Surburban  ...   \n",
       "24877                   5_0               5_1      5_Surburban  ...   \n",
       "16812                   2_0               2_1          2_Urban  ...   \n",
       "\n",
       "      is_referral_channel historymin historymax historysquare   historycube  \\\n",
       "53762             1_Phone      29.99    3345.93     2556.3136  1.292472e+05   \n",
       "27293               1_Web      29.99    3345.93     1973.1364  8.764672e+04   \n",
       "3476                1_Web      29.99    3345.93      899.4001  2.697301e+04   \n",
       "24877             1_Phone      29.99    3345.93    97344.0000  3.037133e+07   \n",
       "16812             1_Phone      29.99    3345.93     5614.5049  4.206949e+05   \n",
       "\n",
       "      historymedian historylog history25perc history75perc  historystd  \n",
       "53762        158.61   3.923161       65.5175      327.0075  257.440704  \n",
       "27293        158.61   3.793690       65.5175      327.0075  257.440704  \n",
       "3476         158.61   3.400864       65.5175      327.0075  257.440704  \n",
       "24877        158.61   5.743003       65.5175      327.0075  257.440704  \n",
       "16812        158.61   4.316554       65.5175      327.0075  257.440704  \n",
       "\n",
       "[5 rows x 31 columns]"
      ]
     },
     "execution_count": 207,
     "metadata": {},
     "output_type": "execute_result"
    }
   ],
   "source": [
    "X_train.head()"
   ]
  },
  {
   "cell_type": "code",
   "execution_count": 208,
   "metadata": {},
   "outputs": [],
   "source": [
    "new_cat = [col for col in X_train.columns if X_train[col].dtype == 'object']"
   ]
  },
  {
   "cell_type": "code",
   "execution_count": 209,
   "metadata": {},
   "outputs": [],
   "source": [
    "uplift_results = {\n",
    "    'approach': [],\n",
    "    'uplift@10%': [],\n",
    "    'uplift@20%': [],\n",
    "    'uplift@30%': []\n",
    "}"
   ]
  },
  {
   "cell_type": "markdown",
   "metadata": {},
   "source": [
    "Solo модель."
   ]
  },
  {
   "cell_type": "code",
   "execution_count": 210,
   "metadata": {},
   "outputs": [],
   "source": [
    "sm = SoloModel(CatBoostClassifier(n_estimators=300, max_depth=3, random_state=43, silent=True))\n",
    "sm.fit(X_train, y_train, treat_train, estimator_fit_params={'cat_features': new_cat})\n",
    "uplift_sm = sm.predict(X_valid)"
   ]
  },
  {
   "cell_type": "code",
   "execution_count": 211,
   "metadata": {},
   "outputs": [],
   "source": [
    "sm_score_10 = uplift_at_k(y_true=y_valid, uplift=uplift_sm, treatment=treat_valid, strategy='by_group', k=0.1)\n",
    "sm_score_20 = uplift_at_k(y_true=y_valid, uplift=uplift_sm, treatment=treat_valid, strategy='by_group', k=0.2)\n",
    "sm_score_30 = uplift_at_k(y_true=y_valid, uplift=uplift_sm, treatment=treat_valid, strategy='by_group', k=0.3)"
   ]
  },
  {
   "cell_type": "code",
   "execution_count": 212,
   "metadata": {},
   "outputs": [],
   "source": [
    "uplift_results['approach'].append('SoloModel')\n",
    "uplift_results['uplift@10%'].append(sm_score_10)\n",
    "uplift_results['uplift@20%'].append(sm_score_20)\n",
    "uplift_results['uplift@30%'].append(sm_score_30)"
   ]
  },
  {
   "cell_type": "code",
   "execution_count": 99,
   "metadata": {},
   "outputs": [
    {
     "data": {
      "image/png": "[encoded data removed]",
      "text/plain": [
       "<Figure size 1440x504 with 3 Axes>"
      ]
     },
     "metadata": {
      "needs_background": "light"
     },
     "output_type": "display_data"
    }
   ],
   "source": [
    "# Получим условные вероятности выполнения целевого действия при взаимодействии для каждого объекта\n",
    "sm_trmnt_preds = sm.trmnt_preds_\n",
    "# И условные вероятности выполнения целевого действия без взаимодействия для каждого объекта\n",
    "sm_ctrl_preds = sm.ctrl_preds_\n",
    "\n",
    "# Отрисуем распределения вероятностей и их разность (uplift)\n",
    "plot_uplift_preds(trmnt_preds=sm_trmnt_preds, ctrl_preds=sm_ctrl_preds);"
   ]
  },
  {
   "cell_type": "markdown",
   "metadata": {},
   "source": [
    "Посчитаем среднюю конверсию."
   ]
  },
  {
   "cell_type": "code",
   "execution_count": 264,
   "metadata": {},
   "outputs": [
    {
     "data": {
      "text/html": [
       "<div>\n",
       "<style scoped>\n",
       "    .dataframe tbody tr th:only-of-type {\n",
       "        vertical-align: middle;\n",
       "    }\n",
       "\n",
       "    .dataframe tbody tr th {\n",
       "        vertical-align: top;\n",
       "    }\n",
       "\n",
       "    .dataframe thead th {\n",
       "        text-align: right;\n",
       "    }\n",
       "</style>\n",
       "<table border=\"1\" class=\"dataframe\">\n",
       "  <thead>\n",
       "    <tr style=\"text-align: right;\">\n",
       "      <th></th>\n",
       "      <th>uplift_sm</th>\n",
       "    </tr>\n",
       "  </thead>\n",
       "  <tbody>\n",
       "    <tr>\n",
       "      <td>0</td>\n",
       "      <td>0.068436</td>\n",
       "    </tr>\n",
       "    <tr>\n",
       "      <td>1</td>\n",
       "      <td>0.071196</td>\n",
       "    </tr>\n",
       "    <tr>\n",
       "      <td>2</td>\n",
       "      <td>0.044101</td>\n",
       "    </tr>\n",
       "    <tr>\n",
       "      <td>3</td>\n",
       "      <td>0.059817</td>\n",
       "    </tr>\n",
       "    <tr>\n",
       "      <td>4</td>\n",
       "      <td>0.070780</td>\n",
       "    </tr>\n",
       "  </tbody>\n",
       "</table>\n",
       "</div>"
      ],
      "text/plain": [
       "   uplift_sm\n",
       "0   0.068436\n",
       "1   0.071196\n",
       "2   0.044101\n",
       "3   0.059817\n",
       "4   0.070780"
      ]
     },
     "execution_count": 264,
     "metadata": {},
     "output_type": "execute_result"
    }
   ],
   "source": [
    "uplift_sm = pd.DataFrame(uplift_sm, columns=['uplift_sm'])\n",
    "uplift_sm.head()"
   ]
  },
  {
   "cell_type": "code",
   "execution_count": 265,
   "metadata": {},
   "outputs": [
    {
     "data": {
      "text/html": [
       "<div>\n",
       "<style scoped>\n",
       "    .dataframe tbody tr th:only-of-type {\n",
       "        vertical-align: middle;\n",
       "    }\n",
       "\n",
       "    .dataframe tbody tr th {\n",
       "        vertical-align: top;\n",
       "    }\n",
       "\n",
       "    .dataframe thead th {\n",
       "        text-align: right;\n",
       "    }\n",
       "</style>\n",
       "<table border=\"1\" class=\"dataframe\">\n",
       "  <thead>\n",
       "    <tr style=\"text-align: right;\">\n",
       "      <th></th>\n",
       "      <th>index</th>\n",
       "      <th>target</th>\n",
       "      <th>uplift_sm</th>\n",
       "    </tr>\n",
       "  </thead>\n",
       "  <tbody>\n",
       "    <tr>\n",
       "      <td>0</td>\n",
       "      <td>12681</td>\n",
       "      <td>1</td>\n",
       "      <td>0.058514</td>\n",
       "    </tr>\n",
       "    <tr>\n",
       "      <td>1</td>\n",
       "      <td>11469</td>\n",
       "      <td>0</td>\n",
       "      <td>0.068855</td>\n",
       "    </tr>\n",
       "    <tr>\n",
       "      <td>2</td>\n",
       "      <td>8671</td>\n",
       "      <td>1</td>\n",
       "      <td>0.048233</td>\n",
       "    </tr>\n",
       "    <tr>\n",
       "      <td>3</td>\n",
       "      <td>18731</td>\n",
       "      <td>0</td>\n",
       "      <td>0.095704</td>\n",
       "    </tr>\n",
       "    <tr>\n",
       "      <td>4</td>\n",
       "      <td>5379</td>\n",
       "      <td>1</td>\n",
       "      <td>0.089610</td>\n",
       "    </tr>\n",
       "  </tbody>\n",
       "</table>\n",
       "</div>"
      ],
      "text/plain": [
       "   index  target  uplift_sm\n",
       "0  12681       1   0.058514\n",
       "1  11469       0   0.068855\n",
       "2   8671       1   0.048233\n",
       "3  18731       0   0.095704\n",
       "4   5379       1   0.089610"
      ]
     },
     "execution_count": 265,
     "metadata": {},
     "output_type": "execute_result"
    }
   ],
   "source": [
    "conversion = pd.merge(y_valid, uplift_sm, left_index=True, right_index=True).reset_index()\n",
    "conversion.head()"
   ]
  },
  {
   "cell_type": "code",
   "execution_count": 266,
   "metadata": {},
   "outputs": [
    {
     "data": {
      "text/html": [
       "<div>\n",
       "<style scoped>\n",
       "    .dataframe tbody tr th:only-of-type {\n",
       "        vertical-align: middle;\n",
       "    }\n",
       "\n",
       "    .dataframe tbody tr th {\n",
       "        vertical-align: top;\n",
       "    }\n",
       "\n",
       "    .dataframe thead th {\n",
       "        text-align: right;\n",
       "    }\n",
       "</style>\n",
       "<table border=\"1\" class=\"dataframe\">\n",
       "  <thead>\n",
       "    <tr style=\"text-align: right;\">\n",
       "      <th></th>\n",
       "      <th>index</th>\n",
       "      <th>target</th>\n",
       "      <th>uplift_sm</th>\n",
       "    </tr>\n",
       "  </thead>\n",
       "  <tbody>\n",
       "    <tr>\n",
       "      <td>4844</td>\n",
       "      <td>10087</td>\n",
       "      <td>0</td>\n",
       "      <td>0.021340</td>\n",
       "    </tr>\n",
       "    <tr>\n",
       "      <td>2360</td>\n",
       "      <td>963</td>\n",
       "      <td>1</td>\n",
       "      <td>0.021691</td>\n",
       "    </tr>\n",
       "    <tr>\n",
       "      <td>4939</td>\n",
       "      <td>14257</td>\n",
       "      <td>0</td>\n",
       "      <td>0.021691</td>\n",
       "    </tr>\n",
       "    <tr>\n",
       "      <td>1890</td>\n",
       "      <td>7020</td>\n",
       "      <td>0</td>\n",
       "      <td>0.021691</td>\n",
       "    </tr>\n",
       "    <tr>\n",
       "      <td>4634</td>\n",
       "      <td>751</td>\n",
       "      <td>0</td>\n",
       "      <td>0.021691</td>\n",
       "    </tr>\n",
       "  </tbody>\n",
       "</table>\n",
       "</div>"
      ],
      "text/plain": [
       "      index  target  uplift_sm\n",
       "4844  10087       0   0.021340\n",
       "2360    963       1   0.021691\n",
       "4939  14257       0   0.021691\n",
       "1890   7020       0   0.021691\n",
       "4634    751       0   0.021691"
      ]
     },
     "execution_count": 266,
     "metadata": {},
     "output_type": "execute_result"
    }
   ],
   "source": [
    "#сортировка по аплифт по убыванию.\n",
    "conversion.sort_values(by=['uplift_sm'], inplace=True)\n",
    "conversion.head()"
   ]
  },
  {
   "cell_type": "code",
   "execution_count": 267,
   "metadata": {},
   "outputs": [
    {
     "data": {
      "text/html": [
       "<div>\n",
       "<style scoped>\n",
       "    .dataframe tbody tr th:only-of-type {\n",
       "        vertical-align: middle;\n",
       "    }\n",
       "\n",
       "    .dataframe tbody tr th {\n",
       "        vertical-align: top;\n",
       "    }\n",
       "\n",
       "    .dataframe thead th {\n",
       "        text-align: right;\n",
       "    }\n",
       "</style>\n",
       "<table border=\"1\" class=\"dataframe\">\n",
       "  <thead>\n",
       "    <tr style=\"text-align: right;\">\n",
       "      <th></th>\n",
       "      <th>index</th>\n",
       "      <th>target</th>\n",
       "      <th>uplift_sm</th>\n",
       "      <th>Decile_rank</th>\n",
       "    </tr>\n",
       "  </thead>\n",
       "  <tbody>\n",
       "    <tr>\n",
       "      <td>4844</td>\n",
       "      <td>10087</td>\n",
       "      <td>0</td>\n",
       "      <td>0.021340</td>\n",
       "      <td>0</td>\n",
       "    </tr>\n",
       "    <tr>\n",
       "      <td>2360</td>\n",
       "      <td>963</td>\n",
       "      <td>1</td>\n",
       "      <td>0.021691</td>\n",
       "      <td>0</td>\n",
       "    </tr>\n",
       "    <tr>\n",
       "      <td>4939</td>\n",
       "      <td>14257</td>\n",
       "      <td>0</td>\n",
       "      <td>0.021691</td>\n",
       "      <td>0</td>\n",
       "    </tr>\n",
       "    <tr>\n",
       "      <td>1890</td>\n",
       "      <td>7020</td>\n",
       "      <td>0</td>\n",
       "      <td>0.021691</td>\n",
       "      <td>0</td>\n",
       "    </tr>\n",
       "    <tr>\n",
       "      <td>4634</td>\n",
       "      <td>751</td>\n",
       "      <td>0</td>\n",
       "      <td>0.021691</td>\n",
       "      <td>0</td>\n",
       "    </tr>\n",
       "  </tbody>\n",
       "</table>\n",
       "</div>"
      ],
      "text/plain": [
       "      index  target  uplift_sm  Decile_rank\n",
       "4844  10087       0   0.021340            0\n",
       "2360    963       1   0.021691            0\n",
       "4939  14257       0   0.021691            0\n",
       "1890   7020       0   0.021691            0\n",
       "4634    751       0   0.021691            0"
      ]
     },
     "execution_count": 267,
     "metadata": {},
     "output_type": "execute_result"
    }
   ],
   "source": [
    "#разбивка на децили\n",
    "conversion['Decile_rank'] = pd.qcut(conversion['uplift_sm'], 10, \n",
    "                            labels = False)\n",
    "conversion.head()"
   ]
  },
  {
   "cell_type": "code",
   "execution_count": 268,
   "metadata": {},
   "outputs": [
    {
     "data": {
      "text/plain": [
       "3    580\n",
       "0    579\n",
       "8    578\n",
       "6    576\n",
       "2    576\n",
       "7    575\n",
       "5    575\n",
       "9    574\n",
       "1    574\n",
       "4    571\n",
       "Name: Decile_rank, dtype: int64"
      ]
     },
     "execution_count": 268,
     "metadata": {},
     "output_type": "execute_result"
    }
   ],
   "source": [
    "conversion['Decile_rank'].value_counts()"
   ]
  },
  {
   "cell_type": "markdown",
   "metadata": {},
   "source": [
    "Посмотрим на среднюю конверсию по верхнему, среднему и нижнему децилям."
   ]
  },
  {
   "cell_type": "code",
   "execution_count": 271,
   "metadata": {},
   "outputs": [
    {
     "data": {
      "text/plain": [
       "Decile_rank\n",
       "0    0.148532\n",
       "1    0.111498\n",
       "2    0.119792\n",
       "3    0.139655\n",
       "4    0.143608\n",
       "5    0.140870\n",
       "6    0.175347\n",
       "7    0.121739\n",
       "8    0.159170\n",
       "9    0.144599\n",
       "Name: target, dtype: float64"
      ]
     },
     "execution_count": 271,
     "metadata": {},
     "output_type": "execute_result"
    }
   ],
   "source": [
    "conversion.groupby('Decile_rank')['target'].mean()"
   ]
  },
  {
   "cell_type": "markdown",
   "metadata": {},
   "source": [
    "Модель трансформации классов."
   ]
  },
  {
   "cell_type": "code",
   "execution_count": 102,
   "metadata": {},
   "outputs": [
    {
     "name": "stderr",
     "output_type": "stream",
     "text": [
      "C:\\Users\\user\\Anaconda3\\lib\\site-packages\\ipykernel_launcher.py:2: UserWarning: It is recommended to use this approach on treatment balanced data. Current sample size is unbalanced.\n",
      "  \n"
     ]
    }
   ],
   "source": [
    "ct = ClassTransformation(CatBoostClassifier(n_estimators=300, max_depth=3, random_state=43, silent=True))\n",
    "ct = ct.fit(X_train, y_train, treat_train, estimator_fit_params={'cat_features': new_cat})\n",
    "uplift_ct = ct.predict(X_valid)"
   ]
  },
  {
   "cell_type": "code",
   "execution_count": 105,
   "metadata": {},
   "outputs": [],
   "source": [
    "ct_score_10 = uplift_at_k(y_true=y_valid, uplift=uplift_ct, treatment=treat_valid, strategy='by_group', k=0.1)\n",
    "ct_score_20 = uplift_at_k(y_true=y_valid, uplift=uplift_ct, treatment=treat_valid, strategy='by_group', k=0.2)\n",
    "ct_score_30 = uplift_at_k(y_true=y_valid, uplift=uplift_ct, treatment=treat_valid, strategy='by_group', k=0.3)"
   ]
  },
  {
   "cell_type": "code",
   "execution_count": 106,
   "metadata": {},
   "outputs": [],
   "source": [
    "uplift_results['approach'].append('ClassTransformation')\n",
    "uplift_results['uplift@10%'].append(ct_score_10)\n",
    "uplift_results['uplift@20%'].append(ct_score_20)\n",
    "uplift_results['uplift@30%'].append(ct_score_30)"
   ]
  },
  {
   "cell_type": "markdown",
   "metadata": {},
   "source": [
    "Две независимые модели."
   ]
  },
  {
   "cell_type": "code",
   "execution_count": 109,
   "metadata": {},
   "outputs": [],
   "source": [
    "tm = TwoModels(\n",
    "    estimator_trmnt=CatBoostClassifier(n_estimators=300, max_depth=3, random_state=43, silent=True), \n",
    "    estimator_ctrl=CatBoostClassifier(n_estimators=300, max_depth=3, random_state=43, silent=True), \n",
    "    method='vanilla'\n",
    ")\n",
    "tm = tm.fit(\n",
    "    X_train, y_train, treat_train,\n",
    "    estimator_trmnt_fit_params={'cat_features': new_cat}, \n",
    "    estimator_ctrl_fit_params={'cat_features': new_cat}\n",
    ")\n",
    "\n",
    "uplift_tm = tm.predict(X_valid)"
   ]
  },
  {
   "cell_type": "code",
   "execution_count": 112,
   "metadata": {},
   "outputs": [],
   "source": [
    "tm_score_10 = uplift_at_k(y_true=y_valid, uplift=uplift_tm, treatment=treat_valid, strategy='by_group', k=0.1)\n",
    "tm_score_20 = uplift_at_k(y_true=y_valid, uplift=uplift_tm, treatment=treat_valid, strategy='by_group', k=0.2)\n",
    "tm_score_30 = uplift_at_k(y_true=y_valid, uplift=uplift_tm, treatment=treat_valid, strategy='by_group', k=0.3)"
   ]
  },
  {
   "cell_type": "code",
   "execution_count": 113,
   "metadata": {},
   "outputs": [],
   "source": [
    "uplift_results['approach'].append('TwoModels')\n",
    "uplift_results['uplift@10%'].append(tm_score_10)\n",
    "uplift_results['uplift@20%'].append(tm_score_20)\n",
    "uplift_results['uplift@30%'].append(tm_score_30)"
   ]
  },
  {
   "cell_type": "code",
   "execution_count": 115,
   "metadata": {},
   "outputs": [
    {
     "data": {
      "image/png": "[encoded data removed]",
      "text/plain": [
       "<Figure size 1440x504 with 3 Axes>"
      ]
     },
     "metadata": {
      "needs_background": "light"
     },
     "output_type": "display_data"
    }
   ],
   "source": [
    "plot_uplift_preds(trmnt_preds=tm.trmnt_preds_, ctrl_preds=tm.ctrl_preds_);"
   ]
  },
  {
   "cell_type": "markdown",
   "metadata": {},
   "source": [
    "Посмотрим на итоговые результаты."
   ]
  },
  {
   "cell_type": "code",
   "execution_count": 114,
   "metadata": {},
   "outputs": [
    {
     "data": {
      "text/html": [
       "<div>\n",
       "<style scoped>\n",
       "    .dataframe tbody tr th:only-of-type {\n",
       "        vertical-align: middle;\n",
       "    }\n",
       "\n",
       "    .dataframe tbody tr th {\n",
       "        vertical-align: top;\n",
       "    }\n",
       "\n",
       "    .dataframe thead th {\n",
       "        text-align: right;\n",
       "    }\n",
       "</style>\n",
       "<table border=\"1\" class=\"dataframe\">\n",
       "  <thead>\n",
       "    <tr style=\"text-align: right;\">\n",
       "      <th></th>\n",
       "      <th>uplift@10%</th>\n",
       "      <th>uplift@20%</th>\n",
       "      <th>uplift@30%</th>\n",
       "    </tr>\n",
       "    <tr>\n",
       "      <th>approach</th>\n",
       "      <th></th>\n",
       "      <th></th>\n",
       "      <th></th>\n",
       "    </tr>\n",
       "  </thead>\n",
       "  <tbody>\n",
       "    <tr>\n",
       "      <td>SoloModel</td>\n",
       "      <td>0.119744</td>\n",
       "      <td>0.070147</td>\n",
       "      <td>0.069465</td>\n",
       "    </tr>\n",
       "    <tr>\n",
       "      <td>ClassTransformation</td>\n",
       "      <td>0.092401</td>\n",
       "      <td>0.076394</td>\n",
       "      <td>0.066865</td>\n",
       "    </tr>\n",
       "    <tr>\n",
       "      <td>TwoModels</td>\n",
       "      <td>0.098628</td>\n",
       "      <td>0.072461</td>\n",
       "      <td>0.071529</td>\n",
       "    </tr>\n",
       "  </tbody>\n",
       "</table>\n",
       "</div>"
      ],
      "text/plain": [
       "                     uplift@10%  uplift@20%  uplift@30%\n",
       "approach                                               \n",
       "SoloModel              0.119744    0.070147    0.069465\n",
       "ClassTransformation    0.092401    0.076394    0.066865\n",
       "TwoModels              0.098628    0.072461    0.071529"
      ]
     },
     "execution_count": 114,
     "metadata": {},
     "output_type": "execute_result"
    }
   ],
   "source": [
    "results = pd.DataFrame(uplift_results).set_index('approach')\n",
    "results"
   ]
  }
 ],
 "metadata": {
  "kernelspec": {
   "display_name": "Python 3",
   "language": "python",
   "name": "python3"
  },
  "language_info": {
   "codemirror_mode": {
    "name": "ipython",
    "version": 3
   },
   "file_extension": ".py",
   "mimetype": "text/x-python",
   "name": "python",
   "nbconvert_exporter": "python",
   "pygments_lexer": "ipython3",
   "version": "3.7.4"
  }
 },
 "nbformat": 4,
 "nbformat_minor": 2
}
