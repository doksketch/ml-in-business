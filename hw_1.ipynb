{
 "cells": [
  {
   "cell_type": "markdown",
   "metadata": {},
   "source": [
    "1. Сравните метрики hit_rate@k, precision@k.   \n",
    "Какую метрику использовать предпочтительно и почему?  \n",
    "Приведите пример 2-3 задач (опишите, что является клиентом, что товаром), в которой более уместно использовать метрику hit_rate?"
   ]
  },
  {
   "cell_type": "markdown",
   "metadata": {},
   "source": [
    "Метрика hit rate@k говорит о том, были ли в принципе интересны юзеру рекомендации. Precision@k задаёт более строгие условия, поскольку\n",
    "здесь интересна доля купленных товаров из рекомендованных. Думаю, предпочтительность выбора метрики в первую очередь зависит\n",
    "от жизненного цикла ML решения. Если проект крайне молодой, например, ещё решается проблема холодного старта, лучше использовать\n",
    "hit rate, поскольку, скорее всего, с первых разов у нас не получится очень хорошего решения, тут бы глупостей не наделать). \n",
    "По мере развития проекта(решении проблемы холодного старта) лучше использовать precision, чтобы с каждой итерацией улучшение\n",
    "ml метрики приводило к улучшению продукта для юзера."
   ]
  },
  {
   "cell_type": "markdown",
   "metadata": {},
   "source": [
    "Но могут быть и такие случаи. Если наши товары довольно высоко эластичны по спросу либо по цене ,например, бытовая техника, ювелирные украшения, то понятно, что, условно,\n",
    "говоря, в одной сессии юзер скорее всего в принципе не купит несколько видов продукции, поэтому в таких случаях лучше использовать\n",
    "hit rate@k. Если, наоборот, товары низкоэластичны по спросу или цене, например, бесплатный развлекательный контент, можно сразу использовать\n",
    "precision, поскольку тут юзер в одной сессии, скорее всего, будет потреблять множество товаров.\n",
    "А ещё лучше не выводить в рекомендованных товары субситуты, это будет снижать precision@k."
   ]
  },
  {
   "cell_type": "markdown",
   "metadata": {},
   "source": [
    "2. В метрике NDCG@k мы используем логарифм в знаменателе. Как Вы думаете, почему именно логарифм? Какую функцию можно использовать вместо логарифма? Привидите пример метрик/подходов к предобработке данных/функций ошибок в ML, где также в  логарифм."
   ]
  },
  {
   "cell_type": "markdown",
   "metadata": {},
   "source": [
    "Логарифмирование может сделать функцию гладкой и у нас будет существовать производная слева, справа и в точке. Функция\n",
    "станет диффиренциируемой и мы можем её оптимизировать, например, мы берём логарифм максимального правдоподобия, когда\n",
    "обучаемся на антиградиент. Вместо логарифмирования мы можем использовать квадратичную функцию потерь, если хотим\n",
    "оптимизировать NDCG напрямую. Полиномиальную уже нехорошо, поскольку велик риск переобучения. \n",
    "Я думаю, что конкретно в NDCG используется логарифм для того, чтобы была более удобная и правдоподобная шкала измерения. Т.е.\n",
    "у нас может быть довольно большой перечень рекомендованный товаров(например, лента со скроллом) и поэтому неотлогарифмированный знаменатель\n",
    "будет тянуть метрику вниз. Наверное поэтому лучше вместо квадратичной функции для NDCG использовать какую нибудь степенную функцию с экспонентой в основании и с обратной дробью в качестве степени, что-то вроде e^1/i, где i-ранг товара."
   ]
  },
  {
   "cell_type": "markdown",
   "metadata": {},
   "source": [
    "3. Какие еще метрики (Вы можете вспомнить уже пройденные Вами или посмотреть в интернете) могут использоваться для рекомендательных систем (приведите примеры метрики **и чем являются интеракции**, чтобы она могла быть использована)."
   ]
  },
  {
   "cell_type": "markdown",
   "metadata": {},
   "source": [
    "Среднеквадратичная ошибка. Интеракция - время. Было бы актуально для тех сервисов, где в интеракциях довольно много выбросов\n",
    "и нам нужно их учитывать."
   ]
  },
  {
   "cell_type": "markdown",
   "metadata": {},
   "source": [
    "4. boughted = [1, 3, 5, 7, 9, 11]  \n",
    "recommended = [2, 5, 7, 4, 11, 9, 8, 10, 12, 3]  \n",
    "Посчитайте на этих данных pr@8, rec@8, AP@8, NDCG@8, MRR@8,  \n",
    "Сначала поссчитайет \"руками\", а затем подтвердите рассчеты с помощью функций (некоторые были на семинаре, некоторые нужно будут написать самостоятельно)\n",
    "\n",
    "IDCG должен считаться для всех 8 позиций рекомендаций"
   ]
  },
  {
   "cell_type": "code",
   "execution_count": 64,
   "metadata": {},
   "outputs": [],
   "source": [
    "import numpy as np"
   ]
  },
  {
   "cell_type": "code",
   "execution_count": 65,
   "metadata": {},
   "outputs": [],
   "source": [
    "boughted = np.array([1, 3, 5, 7, 9, 11])\n",
    "recommended = np.array([2, 5, 7, 4, 11, 9, 8, 10, 12, 3])"
   ]
  },
  {
   "cell_type": "markdown",
   "metadata": {},
   "source": [
    "**Пример выполнения 4го задания**\n",
    "\n",
    "MSE на  \n",
    "$y = [0, 2]$  \n",
    "$y_{pred} = [1, 2]$\n",
    "\n",
    "MSE = $0.5*((0 - 1)^2 + (2-2)^2) = 0.5$ "
   ]
  },
  {
   "cell_type": "code",
   "execution_count": 4,
   "metadata": {},
   "outputs": [
    {
     "data": {
      "text/plain": [
       "0.5"
      ]
     },
     "execution_count": 4,
     "metadata": {},
     "output_type": "execute_result"
    }
   ],
   "source": [
    "import numpy as np\n",
    "((np.array([0, 2]) - np.array([1, 2]))**2).mean()"
   ]
  },
  {
   "cell_type": "markdown",
   "metadata": {},
   "source": [
    "Precision@k = (# of recommended items @k that are relevant) / (# of recommended items @k)\n",
    "4/8 = 1/2."
   ]
  },
  {
   "cell_type": "code",
   "execution_count": 66,
   "metadata": {},
   "outputs": [],
   "source": [
    "def precision_at_k(boughted, recommended, k=8):\n",
    "    recommended = recommended[:k]\n",
    "\n",
    "    precision = np.sum(np.isin(boughted, recommended)) / len(recommended)\n",
    "    \n",
    "    return precision"
   ]
  },
  {
   "cell_type": "code",
   "execution_count": 67,
   "metadata": {},
   "outputs": [
    {
     "data": {
      "text/plain": [
       "0.5"
      ]
     },
     "execution_count": 67,
     "metadata": {},
     "output_type": "execute_result"
    }
   ],
   "source": [
    "precision_at_k(boughted, recommended, k=8)"
   ]
  },
  {
   "cell_type": "markdown",
   "metadata": {},
   "source": [
    "Recall@k = (# of recommended items @k that are relevant) / (# of relevant items) 4/6 = 1/3."
   ]
  },
  {
   "cell_type": "code",
   "execution_count": 68,
   "metadata": {},
   "outputs": [],
   "source": [
    "def recall_at_k(boughted, recommended, k=8):\n",
    "    recommended = recommended[:k]\n",
    "    \n",
    "    recall = np.sum(np.isin(boughted, recommended)) / len(boughted)\n",
    "    \n",
    "    return recall"
   ]
  },
  {
   "cell_type": "code",
   "execution_count": 69,
   "metadata": {},
   "outputs": [
    {
     "data": {
      "text/plain": [
       "0.6666666666666666"
      ]
     },
     "execution_count": 69,
     "metadata": {},
     "output_type": "execute_result"
    }
   ],
   "source": [
    "recall_at_k(boughted, recommended, k=8)"
   ]
  },
  {
   "cell_type": "markdown",
   "metadata": {},
   "source": [
    "$$AP@k = \\frac{1}{K} \\sum{[recommended_{relevant_i}] * precision@k}$$\n",
    "\n",
    "- K - кол-во рекомендованных\n",
    "- Суммируем по всем релевантным товарам\n",
    "- Зависит от порядка рекомендаций"
   ]
  },
  {
   "cell_type": "markdown",
   "metadata": {},
   "source": [
    "По каждому элементу в recommended считаем precision_at_k, складываем и делим на k."
   ]
  },
  {
   "cell_type": "markdown",
   "metadata": {},
   "source": [
    "(1/2 + 2/3 + 4/6 + 3/5)/8 = 0.3041"
   ]
  },
  {
   "cell_type": "code",
   "execution_count": 70,
   "metadata": {},
   "outputs": [],
   "source": [
    "def ap_k(recommended, boughted, k=8):\n",
    "    flags = np.isin(recommended, boughted)\n",
    "    \n",
    "    if sum(flags) == 0:\n",
    "        return 0\n",
    "    \n",
    "    sum_ = 0\n",
    "    for i in range(0, k): \n",
    "        if flags[i] == True:\n",
    "            p_k = precision_at_k(recommended, boughted, k=i+1)\n",
    "            sum_ += p_k\n",
    "            \n",
    "    result = sum_ / k\n",
    "    \n",
    "    return result"
   ]
  },
  {
   "cell_type": "code",
   "execution_count": 71,
   "metadata": {},
   "outputs": [
    {
     "data": {
      "text/plain": [
       "0.35"
      ]
     },
     "execution_count": 71,
     "metadata": {},
     "output_type": "execute_result"
    }
   ],
   "source": [
    "ap_k(recommended, boughted, k=8)"
   ]
  },
  {
   "cell_type": "markdown",
   "metadata": {},
   "source": [
    "### NDCG@k\n",
    "Normalized discounted cumulative gain\n",
    "\n",
    "$$DCG = \\frac{1}{|r|} \\sum_u{\\frac{[bought fact]}{discount(i)}}$$  \n",
    "\n",
    "$discount(i) = 1$ if $i <= 2$,   \n",
    "$discount(i) = log_2(i)$ if $i > 2$\n",
    "\n",
    "\n",
    "(!) Считаем для первых k рекоммендаций   \n",
    "(!) - существуют вариации с другими $discount(i)$  \n",
    "i - ранк рекомендованного товара  \n",
    "|r| - кол-во рекомендованных товаров \n",
    "\n",
    "$$NDCG = \\frac{DCG}{ideal DCG}$$"
   ]
  },
  {
   "cell_type": "markdown",
   "metadata": {},
   "source": [
    "Идём по recommended и сравнениваем с bought."
   ]
  },
  {
   "cell_type": "code",
   "execution_count": null,
   "metadata": {},
   "outputs": [],
   "source": [
    "boughted = np.array([1, 3, 5, 7, 9, 11])\n",
    "recommended = np.array([2, 5, 7, 4, 11, 9, 8, 10, 12, 3])"
   ]
  },
  {
   "cell_type": "markdown",
   "metadata": {},
   "source": [
    "- dcg=(0 + 1/log2 + 1/log3 + 0/log4 + 1/log5 + 1/log6 + 0 + 0)/8 = 0.306. \n",
    "- ideal_dcg: (1 + 1/log(2) + 1/log(3) + 1/log(4) + 1/log(5) + + 1/log(6) + 1/log(7) + 1/log(8))/8 = 0.58\n",
    "- ndcg = 0.306/0.58 = 0.52758"
   ]
  },
  {
   "cell_type": "code",
   "execution_count": 56,
   "metadata": {},
   "outputs": [],
   "source": [
    "def dcg_at_k(recommended, boughted, k=8):\n",
    "    recommended = recommended[:k]\n",
    "    \n",
    "    if len(recommended) == 0:\n",
    "        return 0.\n",
    "    \n",
    "    flags = np.isin(recommended, boughted)\n",
    "    \n",
    "    if sum(flags) == 0:\n",
    "        return 0.\n",
    "    \n",
    "    discounts = np.log2(np.arange(2, len(flags)+1))\n",
    "    discounts = np.insert(discounts, 0, 1)\n",
    "    \n",
    "    dsg = np.sum(flags / discounts) / k\n",
    "    \n",
    "    return dsg"
   ]
  },
  {
   "cell_type": "code",
   "execution_count": 57,
   "metadata": {},
   "outputs": [
    {
     "data": {
      "text/plain": [
       "0.30605738985992403"
      ]
     },
     "execution_count": 57,
     "metadata": {},
     "output_type": "execute_result"
    }
   ],
   "source": [
    "dcg_at_k(recommended, boughted, k=8)"
   ]
  },
  {
   "cell_type": "code",
   "execution_count": 62,
   "metadata": {},
   "outputs": [],
   "source": [
    "def ndsg_at_k(recommended, boughted, k=8):\n",
    "    dcg = dcg_at_k(recommended, boughted, k)\n",
    "    idcg = dcg_at_k(np.ones(k), np.ones(1), k)\n",
    "    ndsg = dcg / idcg\n",
    "    return ndsg"
   ]
  },
  {
   "cell_type": "code",
   "execution_count": 63,
   "metadata": {},
   "outputs": [
    {
     "data": {
      "text/plain": [
       "0.527912744563727"
      ]
     },
     "execution_count": 63,
     "metadata": {},
     "output_type": "execute_result"
    }
   ],
   "source": [
    "ndsg_at_k(recommended, boughted, k=8)"
   ]
  },
  {
   "cell_type": "markdown",
   "metadata": {},
   "source": [
    "### MRR@k\n",
    "Mean Reciprocal Rank\n",
    "\n",
    "- Считаем для первых k рекоммендаций\n",
    "- Найти ранг первого релевантного предсказания $k_u$\n",
    "- Посчитать reciprocal rank = $\\frac{1}{k_u}$\n",
    "\n",
    "$$MRR = mean(\\frac{1}{k_u})$$"
   ]
  },
  {
   "cell_type": "markdown",
   "metadata": {},
   "source": [
    "1/2 + 1/3 + 1/6 + 1/5 = 0.15"
   ]
  },
  {
   "cell_type": "code",
   "execution_count": 82,
   "metadata": {},
   "outputs": [],
   "source": [
    "def mean_reciprocal_rank_at_k(recommended, boughted, k=8):\n",
    "    recommended = recommended[:k]\n",
    "    ranks=0.\n",
    "    \n",
    "    for i, item_rec in enumerate(recommended):\n",
    "        for item_bought in boughted:\n",
    "            if item_rec == item_bought:\n",
    "                ranks += 1 / (i+1)\n",
    "    return ranks / len(recommended)"
   ]
  },
  {
   "cell_type": "code",
   "execution_count": 83,
   "metadata": {},
   "outputs": [
    {
     "data": {
      "text/plain": [
       "0.15"
      ]
     },
     "execution_count": 83,
     "metadata": {},
     "output_type": "execute_result"
    }
   ],
   "source": [
    "mean_reciprocal_rank_at_k(recommended, boughted, k=8)"
   ]
  }
 ],
 "metadata": {
  "kernelspec": {
   "display_name": "Python 3",
   "language": "python",
   "name": "python3"
  },
  "language_info": {
   "codemirror_mode": {
    "name": "ipython",
    "version": 3
   },
   "file_extension": ".py",
   "mimetype": "text/x-python",
   "name": "python",
   "nbconvert_exporter": "python",
   "pygments_lexer": "ipython3",
   "version": "3.7.4"
  }
 },
 "nbformat": 4,
 "nbformat_minor": 2
}
